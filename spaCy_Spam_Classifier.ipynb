{
 "cells": [
  {
   "cell_type": "markdown",
   "metadata": {},
   "source": [
    "# spaCy Spam Classifier\n",
    "\n",
    "An implementation of a spam classifier using spaCy. The final result is a clasifier achieving an F Score of 0.9563 and accuracy of over 97%."
   ]
  },
  {
   "cell_type": "code",
   "execution_count": 1,
   "metadata": {},
   "outputs": [],
   "source": [
    "import json\n",
    "import random\n",
    "import itertools\n",
    "import time\n",
    "\n",
    "import matplotlib\n",
    "import matplotlib.pyplot as plt\n",
    "%matplotlib inline\n",
    "\n",
    "from IPython import display\n",
    "\n",
    "import spacy \n",
    "from spacy.util import compounding, minibatch\n",
    "\n",
    "from utils import *\n",
    "from pipeline import Pipeline"
   ]
  },
  {
   "cell_type": "markdown",
   "metadata": {},
   "source": [
    "## Get a Corpus\n",
    "\n",
    "Download the [Apache SpamAssassin public corpus](https://spamassassin.apache.org/old/publiccorpus/). A description of the corpus can be found [here](https://spamassassin.apache.org/old/publiccorpus/readme.html).\n",
    "\n",
    "#### Categories\n",
    "  - **Spam**: 1896 (31.4 %)\n",
    "  - **Non Spam**: 4150 (68.6 %)\n",
    "    - *Easy Ham*: 3900\n",
    "    - *Hard Ham*: 250"
   ]
  },
  {
   "cell_type": "code",
   "execution_count": 2,
   "metadata": {},
   "outputs": [],
   "source": [
    "# helper function from utils.py\n",
    "files = download_and_extract_corpus(silent=True)\n",
    "\n",
    "# determine category from file path\n",
    "spam     = [f for f in files if 'spam' in f]\n",
    "easy_ham = [f for f in files if 'easy_ham' in f]\n",
    "hard_ham = [f for f in files if 'hard_ham' in f]"
   ]
  },
  {
   "cell_type": "markdown",
   "metadata": {},
   "source": [
    "## Partition the Corpus \n",
    "Split the messages into two partitions with equal spam frequency and most of the hard ham in the second partition. Use the first partition for the training set and split the second between dev and test. This results in the following distribution:\n",
    "\n",
    "  - **Training Set** : 4246 (70%)\n",
    "  - **Dev Set** : 1200 (20%)\n",
    "  - **Test Set** : 600 (10%)"
   ]
  },
  {
   "cell_type": "code",
   "execution_count": 3,
   "metadata": {},
   "outputs": [],
   "source": [
    "easy_split = 1040\n",
    "hard_split = 200\n",
    "spam_split = 560\n",
    "dev_size = 600\n",
    "\n",
    "random.shuffle(easy_ham)\n",
    "random.shuffle(hard_ham)\n",
    "random.shuffle(spam)\n",
    "\n",
    "part1 = easy_ham[:easy_split] + hard_ham[:hard_split] + spam[:spam_split]\n",
    "random.shuffle(part1)\n",
    "\n",
    "dev_files = part1[:dev_size]\n",
    "test_files = part1[dev_size:]\n",
    "train_files = easy_ham[easy_split:] + hard_ham[hard_split:] + spam[spam_split:]\n",
    "\n",
    "random.shuffle(dev_files)\n",
    "random.shuffle(test_files)\n",
    "random.shuffle(train_files)\n",
    "\n",
    "files = {\n",
    "    'train': train_files,\n",
    "    'dev'  : dev_files,\n",
    "    'test' : test_files\n",
    "}"
   ]
  },
  {
   "cell_type": "markdown",
   "metadata": {},
   "source": [
    "## Parameter Tuning"
   ]
  },
  {
   "cell_type": "markdown",
   "metadata": {},
   "source": [
    "### Preprocessing\n",
    "\n",
    "Compare combinations of different header formatting and text preprocessing techniques. \n",
    "\n",
    "For the headers, we will use three different configurations: \n",
    "  - Full Headers\n",
    "  - No Headers\n",
    "  - Subject Field Only\n",
    "  \n",
    "For the text, we use the [Pipeline class](pipeline.py) with different combinations of the built-in preprocessing pipes. The :\n",
    "  - Removing HTML tags - `html_cleaner`\n",
    "  - Changing text to lowercase - `to_lower`\n",
    "  - Removing punctuation - `punct_remover`\n",
    "  - Removing stop words - `stopword_remover`\n",
    "  - Lemmatize words - `lemmatizer`\n",
    "    \n",
    "The pipelines to test include `html_cleaner` and `to_lower` with different combinations of `punct_remover`, `stopword_remover`, and `lemmatizer`."
   ]
  },
  {
   "cell_type": "code",
   "execution_count": 5,
   "metadata": {},
   "outputs": [],
   "source": [
    "with open('partitions.json') as file_:\n",
    "    files = json.load(file_)\n",
    "\n",
    "def get_formatter(fields):\n",
    "    def formatter(headers, body):\n",
    "        return format_message_content(headers, body, header_fields=fields)\n",
    "    return formatter\n",
    "\n",
    "formatters = {\n",
    "    'full_headers': format_message_content,\n",
    "    'no_headers': get_formatter([]),\n",
    "    'subject_only': get_formatter(['subject'])\n",
    "}\n",
    "\n",
    "pipes = ['to_lower', 'html_cleaner']\n",
    "other_pipes = ['punct_remover', 'stopword_remover', 'lemmatizer']\n",
    "\n",
    "bin_vectors = list(itertools.product((False, True), repeat=3))\n",
    "\n",
    "combinations = []\n",
    "\n",
    "lookups = spacy.lookups.Lookups().from_disk('.venv/lib/python3.8/site-packages/'\n",
    "                                            'en_core_web_sm/en_core_web_sm-2.3.1/'\n",
    "                                            'vocab/lookups.bin')\n",
    "\n",
    "for v in bin_vectors:\n",
    "    include = pipes + [other_pipes[i] for i in range(3) if v[i]]\n",
    "    \n",
    "    pipeline = Pipeline(include=include, lookups=lookups)\n",
    "    for k, v in formatters.items():\n",
    "        combinations.append({'pipeline': pipeline, 'formatter_name': k, 'formatter': v})"
   ]
  },
  {
   "cell_type": "code",
   "execution_count": 6,
   "metadata": {
    "collapsed": true
   },
   "outputs": [
    {
     "name": "stderr",
     "output_type": "stream",
     "text": [
      "Training: 100%|██████████| 10/10 [08:05<00:00, 48.53s/ epoch]\n",
      "Training: 100%|██████████| 10/10 [05:34<00:00, 33.46s/ epoch]\n",
      "Training: 100%|██████████| 10/10 [05:44<00:00, 34.42s/ epoch]\n",
      "Training: 100%|██████████| 10/10 [08:08<00:00, 48.83s/ epoch]\n",
      "Training: 100%|██████████| 10/10 [05:36<00:00, 33.66s/ epoch]\n",
      "Training: 100%|██████████| 10/10 [06:01<00:00, 36.14s/ epoch]\n",
      "Training: 100%|██████████| 10/10 [06:45<00:00, 40.50s/ epoch]\n",
      "Training: 100%|██████████| 10/10 [05:10<00:00, 31.06s/ epoch]\n",
      "Training: 100%|██████████| 10/10 [05:15<00:00, 31.57s/ epoch]\n",
      "Training: 100%|██████████| 10/10 [06:38<00:00, 39.81s/ epoch]\n",
      "Training: 100%|██████████| 10/10 [05:13<00:00, 31.35s/ epoch]\n",
      "Training: 100%|██████████| 10/10 [05:17<00:00, 31.75s/ epoch]\n",
      "Training: 100%|██████████| 10/10 [05:52<00:00, 35.23s/ epoch]\n",
      "Training: 100%|██████████| 10/10 [04:24<00:00, 26.41s/ epoch]\n",
      "Training: 100%|██████████| 10/10 [04:32<00:00, 27.23s/ epoch]\n",
      "Training: 100%|██████████| 10/10 [05:56<00:00, 35.62s/ epoch]\n",
      "Training: 100%|██████████| 10/10 [04:26<00:00, 26.63s/ epoch]\n",
      "Training: 100%|██████████| 10/10 [04:40<00:00, 28.02s/ epoch]\n"
     ]
    }
   ],
   "source": [
    "all_metrics = []\n",
    "    \n",
    "labeler = lambda y: {'SPAM': float(y), 'NOT_SPAM': float(not y)}\n",
    "drop = 0.35\n",
    "epochs = 10\n",
    "textcat_config = {'exclusive_classes': True, 'architecture': 'ensemble'}\n",
    "\n",
    "for i, combo in enumerate(combinations):\n",
    "    if i < 6:\n",
    "        continue\n",
    "    pipeline = combo['pipeline']\n",
    "    formatter = combo['formatter']\n",
    "    format_name = combo['formatter_name']\n",
    "    \n",
    "    # get the data\n",
    "    train_data = preprocess(files['train'], \n",
    "                            pipeline, \n",
    "                            lambda y: {'cats': labeler(y)}, \n",
    "                            silent=True,\n",
    "                            formatter=formatter)\n",
    "    dev_data = preprocess(files['dev'], \n",
    "                          pipeline, \n",
    "                          labeler,\n",
    "                          silent=True,\n",
    "                          formatter=formatter)\n",
    "    \n",
    "    # create a Language model with textcat\n",
    "    nlp = spacy.blank('en')\n",
    "    if 'textcat' in nlp.pipe_names:\n",
    "        textcat = nlp.get_pipe('textcat')\n",
    "    else:\n",
    "        textcat = nlp.create_pipe('textcat', config=textcat_config)\n",
    "        nlp.add_pipe(textcat, last=True)\n",
    "        \n",
    "    # add labels\n",
    "    textcat.add_label('SPAM')\n",
    "    textcat.add_label('NOT_SPAM')\n",
    "    \n",
    "    nlp, metrics, params = train_textcat(nlp, train_data, epochs, drop, dev_data)\n",
    "    metrics['id'] = i\n",
    "    metrics['drop'] = drop\n",
    "    metrics['pipeline'] = pipeline.pipe_names\n",
    "    metrics['format'] = format_name\n",
    "    all_metrics.append(metrics)\n",
    "    \n",
    "    with open('all_metrics.json', 'w') as file_:\n",
    "        json.dump(all_metrics, file_)"
   ]
  },
  {
   "cell_type": "markdown",
   "metadata": {},
   "source": [
    "#### Results\n",
    "\n",
    "The top 10 combinations by F Score:\n",
    "\n",
    "| ID  | F Score | Accuracy | Time (m) | Pipeline | Format |\n",
    "|:---:|:-------:|:--------:|---------:|---------:|:------:|\n",
    "|12|0.96124|0.97500|06:21|to_lower, html_cleaner, punct_remover|Full Headers|\n",
    "|14|0.95855|0.97333|04:56|to_lower, html_cleaner, punct_remover|Subject Only|\n",
    "|8|0.95607|0.97167|05:24|to_lower, html_cleaner, stopword_remover|Subject Only|\n",
    "|18|0.95431|0.97000|05:30|to_lower, html_cleaner, punct_remover, stopword_remover|Full Headers|\n",
    "|23|0.95238|0.97000|04:22|to_lower, html_cleaner, punct_remover, stopword_remover, lemmatizer|Subject Only|\n",
    "|15|0.95141|0.96833|06:14|to_lower, html_cleaner, punct_remover, lemmatizer|Full Headers|\n",
    "|17|0.94898|0.96667|04:58|to_lower, html_cleaner, punct_remover, lemmatizer|Subject Only|\n",
    "|2|0.94764|0.96667|05:51|to_lower, html_cleaner|Subject Only|\n",
    "|16|0.94602|0.96500|04:54|to_lower, html_cleaner, punct_remover, lemmatizer|No Headers|\n",
    "|13|0.94545|0.96500|04:52|to_lower, html_cleaner, punct_remover|No Headers|\n",
    "\n",
    "![Plots](img/fig1.png)"
   ]
  },
  {
   "cell_type": "markdown",
   "metadata": {},
   "source": [
    "\n",
    "### Dropout Rate\n",
    "\n",
    "Using only the header subject and pipeline with `to_lower`, `html_cleaner`, and `remove_punct`, compare performance on models trained with different dropout rates. "
   ]
  },
  {
   "cell_type": "code",
   "execution_count": 43,
   "metadata": {
    "collapsed": true
   },
   "outputs": [
    {
     "name": "stderr",
     "output_type": "stream",
     "text": [
      "Training: 100%|██████████| 10/10 [04:59<00:00, 29.97s/ epoch]\n",
      "Training: 100%|██████████| 10/10 [04:54<00:00, 29.46s/ epoch]\n",
      "Training: 100%|██████████| 10/10 [04:55<00:00, 29.51s/ epoch]\n",
      "Training: 100%|██████████| 10/10 [05:03<00:00, 30.32s/ epoch]\n",
      "Training: 100%|██████████| 10/10 [04:51<00:00, 29.19s/ epoch]\n",
      "Training: 100%|██████████| 10/10 [04:57<00:00, 29.77s/ epoch]\n",
      "Training: 100%|██████████| 10/10 [04:59<00:00, 29.96s/ epoch]\n",
      "Training: 100%|██████████| 10/10 [04:59<00:00, 29.95s/ epoch]\n",
      "Training: 100%|██████████| 10/10 [04:55<00:00, 29.58s/ epoch]\n",
      "Training: 100%|██████████| 10/10 [04:56<00:00, 29.67s/ epoch]\n"
     ]
    }
   ],
   "source": [
    "labeler = lambda y: {'SPAM': float(y), 'NOT_SPAM': float(not y)}\n",
    "drops = [0.10, 0.15, 0.20, 0.25, 0.30, 0.35, 0.40, 0.45, 0.50, 0.55, 0.60]\n",
    "epochs = 10\n",
    "textcat_config = {'exclusive_classes': True, 'architecture': 'ensemble'}\n",
    "pipeline = combinations[14]['pipeline']\n",
    "formatter = combinations[14]['formatter']\n",
    "prev_metrics = all_metrics[14]\n",
    "all_metrics = []\n",
    "\n",
    "# get the data\n",
    "train_data = preprocess(files['train'], \n",
    "                        pipeline, \n",
    "                        lambda y: {'cats': labeler(y)}, \n",
    "                        silent=True,\n",
    "                        formatter=formatter)\n",
    "dev_data = preprocess(files['dev'], \n",
    "                        pipeline, \n",
    "                        labeler,\n",
    "                        silent=True,\n",
    "                        formatter=formatter)\n",
    "    \n",
    "for i, drop in enumerate(drops):\n",
    "    if drop == 0.35:\n",
    "        prev_metrics['id'] = i + 24\n",
    "        all_metrics.append(prev_metrics)\n",
    "        continue\n",
    "    \n",
    "    # create model\n",
    "    nlp = spacy.blank('en')\n",
    "    if 'textcat' in nlp.pipe_names:\n",
    "        textcat = nlp.get_pipe('textcat')\n",
    "    else:\n",
    "        textcat = nlp.create_pipe('textcat', config=textcat_config)\n",
    "        nlp.add_pipe(textcat, last=True)\n",
    "        \n",
    "    # add labels\n",
    "    textcat.add_label('SPAM')\n",
    "    textcat.add_label('NOT_SPAM')\n",
    "    \n",
    "    # train\n",
    "    nlp, metrics, params = train_textcat(nlp, train_data, epochs, drop, dev_data)\n",
    "    metrics['id'] = i + 24\n",
    "    metrics['drop'] = drop\n",
    "    metrics['pipeline'] = pipeline.pipe_names\n",
    "    metrics['format'] = prev_metrics['format']\n",
    "    all_metrics.append(metrics)\n",
    "    \n",
    "    with open('_all_metrics.json', 'w') as file_:\n",
    "        json.dump(all_metrics, file_)"
   ]
  },
  {
   "cell_type": "markdown",
   "metadata": {},
   "source": [
    "![fig3](img/fig3.png)"
   ]
  },
  {
   "cell_type": "markdown",
   "metadata": {},
   "source": [
    "## Create and Train the Final Model\n",
    "\n",
    "Use the optimal preprocessing pipeline on the data and train a new model with the optimal dropout rate."
   ]
  },
  {
   "cell_type": "code",
   "execution_count": 21,
   "metadata": {},
   "outputs": [
    {
     "data": {
      "image/png": "[encoded data removed]",
      "text/plain": [
       "<Figure size 864x288 with 3 Axes>"
      ]
     },
     "metadata": {
      "needs_background": "light"
     },
     "output_type": "display_data"
    }
   ],
   "source": [
    "# Preprocess Data\n",
    "formatter = get_formatter(['subject'])\n",
    "pipeline = Pipeline(['to_lower', 'html_cleaner', 'remove_punct'])\n",
    "labeler = lambda y: {'SPAM': float(y), 'NOT_SPAM': float(not y)}\n",
    "cats = lambda y: {'cats': labeler(y)}\n",
    "train_data = preprocess(files['train'], \n",
    "                        pipeline=pipeline, \n",
    "                        labeler=cats, \n",
    "                        silent=True,\n",
    "                        formatter=formatter)\n",
    "dev_data = preprocess(files['dev'], \n",
    "                        pipeline=pipeline, \n",
    "                        labeler=labeler,\n",
    "                        silent=True,\n",
    "                        formatter=formatter)\n",
    "dev_texts, dev_golds = zip(*dev_data)\n",
    "\n",
    "# Train settings\n",
    "drop = 0.25\n",
    "epochs = 50\n",
    "\n",
    "# Track performance with plots\n",
    "fig, axes = plt.subplots(nrows=1, ncols=3, figsize=(12, 4), tight_layout=True)\n",
    "plot_kwargs = {'colors': ['b', 'g', 'r'], \n",
    "               'yscale': [None, None, 'log'], \n",
    "               'y_ticks': [None, None, []]}\n",
    "metrics = {'f_score': [], 'accuracy': [], 'loss': []}\n",
    "\n",
    "# create the model\n",
    "nlp = spacy.blank('en')\n",
    "if 'textcat' in nlp.pipe_names:\n",
    "    textcat = nlp.get_pipe('textcat')\n",
    "else:\n",
    "    textcat = nlp.create_pipe('textcat', config={'exclusive_classes': True, \n",
    "                                                 'architecture': 'ensemble'})\n",
    "    nlp.add_pipe(textcat, last=True)\n",
    "        \n",
    "# add labels\n",
    "textcat.add_label('SPAM')\n",
    "textcat.add_label('NOT_SPAM')\n",
    "\n",
    "other_pipes = [p for p in nlp.pipe_names if p != 'textcat']\n",
    "\n",
    "with nlp.disable_pipes(*other_pipes):\n",
    "    opt = nlp.begin_training()\n",
    "    batch_sizes = compounding(16.0, 512, 1.01)\n",
    "    \n",
    "    for i in range(1, epochs + 1):\n",
    "        losses = {}\n",
    "        random.shuffle(train_data)\n",
    "        \n",
    "        for batch in minibatch(train_data, size=batch_sizes):\n",
    "            texts, golds = zip(*batch)\n",
    "            nlp.update(texts, golds, sgd=opt, drop=drop, losses=losses)\n",
    "            \n",
    "        # update metrics\n",
    "        metrics['loss'].append(losses['textcat'])\n",
    "        with textcat.model.use_params(opt.averages):\n",
    "            scores = evaluate(nlp.tokenizer, textcat, dev_texts, dev_golds)\n",
    "        metrics['f_score'].append(scores['f_score'])\n",
    "        metrics['accuracy'].append(scores['accuracy'])\n",
    "        \n",
    "        #update plots\n",
    "        update_metrics_axes(axes, list(metrics.items()), **plot_kwargs)\n",
    "        fig.suptitle(f'Epoch {i} of {epochs}', fontsize=20)\n",
    "        fig.canvas.draw()\n",
    "        display.display(fig)\n",
    "        display.clear_output(wait=True)\n",
    "\n",
    "# save the model\n",
    "with nlp.use_params(opt.averages):\n",
    "    nlp.to_disk('output')"
   ]
  },
  {
   "cell_type": "markdown",
   "metadata": {},
   "source": [
    "## Final Evaluation\n",
    "\n",
    "![fig4](img/fig4.png)"
   ]
  }
 ],
 "metadata": {
  "kernelspec": {
   "display_name": "Python 3",
   "language": "python",
   "name": "python3"
  },
  "language_info": {
   "codemirror_mode": {
    "name": "ipython",
    "version": 3
   },
   "file_extension": ".py",
   "mimetype": "text/x-python",
   "name": "python",
   "nbconvert_exporter": "python",
   "pygments_lexer": "ipython3",
   "version": "3.8.6"
  }
 },
 "nbformat": 4,
 "nbformat_minor": 4
}
